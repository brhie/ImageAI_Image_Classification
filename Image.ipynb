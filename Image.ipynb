{
  "nbformat": 4,
  "nbformat_minor": 0,
  "metadata": {
    "colab": {
      "provenance": [],
      "authorship_tag": "ABX9TyM8gG2aBE+/1aedTIojaKAv",
      "include_colab_link": true
    },
    "kernelspec": {
      "name": "python3",
      "display_name": "Python 3"
    },
    "language_info": {
      "name": "python"
    }
  },
  "cells": [
    {
      "cell_type": "markdown",
      "metadata": {
        "id": "view-in-github",
        "colab_type": "text"
      },
      "source": [
        "<a href=\"https://colab.research.google.com/github/brhie/ImageAI_Image_Classification/blob/main/Image.ipynb\" target=\"_parent\"><img src=\"https://colab.research.google.com/assets/colab-badge.svg\" alt=\"Open In Colab\"/></a>"
      ]
    },
    {
      "cell_type": "code",
      "source": [
        "# Image Detection Application"
      ],
      "metadata": {
        "id": "g8bR1IHgTxYn"
      },
      "execution_count": null,
      "outputs": []
    },
    {
      "cell_type": "code",
      "source": [
        "!ls /content/drive/MyDrive/Saved\\ from\\ Chrome/"
      ],
      "metadata": {
        "colab": {
          "base_uri": "https://localhost:8080/"
        },
        "id": "bI8BnuLFT1ik",
        "outputId": "88d21af0-fd73-41ee-9a38-8cde591b7950"
      },
      "execution_count": null,
      "outputs": [
        {
          "output_type": "stream",
          "name": "stdout",
          "text": [
            "giraffe.jpg  godzilla.jpg  house.jpg  mobilenet_v2-b0353104.pth\n"
          ]
        }
      ]
    },
    {
      "cell_type": "code",
      "execution_count": null,
      "metadata": {
        "id": "zzn4uYY-CrWl",
        "colab": {
          "base_uri": "https://localhost:8080/"
        },
        "outputId": "797b16d8-fcf1-422d-cf86-02563a04aa17"
      },
      "outputs": [
        {
          "output_type": "stream",
          "name": "stdout",
          "text": [
            "Requirement already satisfied: imageai in /usr/local/lib/python3.11/dist-packages (3.0.3)\n"
          ]
        }
      ],
      "source": [
        "!pip install imageai --upgrade"
      ]
    },
    {
      "cell_type": "code",
      "source": [
        "from imageai.Classification import ImageClassification\n",
        "import os\n",
        "files_path = \"/content/drive/MyDrive/Saved from Chrome\"\n",
        "\n",
        "prediction = ImageClassification()\n",
        "prediction.setModelTypeAsMobileNetV2()\n",
        "prediction.setModelPath(os.path.join(files_path, \"mobilenet_v2-b0353104.pth\"))\n",
        "prediction.loadModel()\n",
        "\n",
        "predictions, probabilities = prediction.classifyImage(os.path.join(files_path, \"giraffe.jpg\"), result_count=5 )\n",
        "for eachPrediction, eachProbability in zip(predictions, probabilities):\n",
        "    print(eachPrediction , \" : \" , eachProbability)"
      ],
      "metadata": {
        "colab": {
          "base_uri": "https://localhost:8080/"
        },
        "id": "ABmR6RdyOz6F",
        "outputId": "eff867e7-44bd-474e-b855-dff416f24888"
      },
      "execution_count": null,
      "outputs": [
        {
          "output_type": "stream",
          "name": "stdout",
          "text": [
            "impala\n",
            "German short-haired pointer\n",
            "zebra\n",
            "gazelle\n",
            "llama\n",
            "impala  :  29.0922\n",
            "German short-haired pointer  :  17.2528\n",
            "zebra  :  13.7695\n",
            "gazelle  :  11.4433\n",
            "llama  :  6.3483\n"
          ]
        }
      ]
    }
  ]
}